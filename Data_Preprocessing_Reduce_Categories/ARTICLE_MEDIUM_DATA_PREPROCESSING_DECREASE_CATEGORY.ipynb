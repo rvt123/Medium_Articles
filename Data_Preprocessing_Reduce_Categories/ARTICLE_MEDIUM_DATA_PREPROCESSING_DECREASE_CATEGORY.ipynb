{
 "cells": [
  {
   "cell_type": "code",
   "execution_count": 1,
   "metadata": {},
   "outputs": [],
   "source": [
    "import pandas as pd\n",
    "import numpy as np\n",
    "import seaborn as sns"
   ]
  },
  {
   "cell_type": "code",
   "execution_count": 2,
   "metadata": {},
   "outputs": [],
   "source": [
    "data = pd.read_csv(\"C:/Users/raghu/Desktop/Article/Data.csv\")"
   ]
  },
  {
   "cell_type": "code",
   "execution_count": 3,
   "metadata": {},
   "outputs": [
    {
     "data": {
      "text/plain": [
       "5045"
      ]
     },
     "execution_count": 3,
     "metadata": {},
     "output_type": "execute_result"
    }
   ],
   "source": [
    "len(data)"
   ]
  },
  {
   "cell_type": "code",
   "execution_count": 4,
   "metadata": {
    "scrolled": false
   },
   "outputs": [
    {
     "data": {
      "text/plain": [
       "ID                                0\n",
       "Office_PIN                        0\n",
       "Application_Receipt_Date          0\n",
       "Applicant_City_PIN               34\n",
       "Applicant_Gender                 22\n",
       "Applicant_BirthDate              23\n",
       "Applicant_Marital_Status         30\n",
       "Applicant_Occupation           1004\n",
       "Applicant_Qualification          44\n",
       "Manager_DOJ                     824\n",
       "Manager_Joining_Designation     824\n",
       "Manager_Current_Designation     824\n",
       "Manager_Grade                   824\n",
       "Manager_Status                  824\n",
       "Manager_Gender                  824\n",
       "Manager_DoB                     824\n",
       "Manager_Num_Application         824\n",
       "Manager_Num_Coded               824\n",
       "Manager_Business                824\n",
       "Manager_Num_Products            824\n",
       "Manager_Business2               824\n",
       "Manager_Num_Products2           824\n",
       "dtype: int64"
      ]
     },
     "execution_count": 4,
     "metadata": {},
     "output_type": "execute_result"
    }
   ],
   "source": [
    "data.isna().sum()"
   ]
  },
  {
   "cell_type": "code",
   "execution_count": 5,
   "metadata": {},
   "outputs": [
    {
     "data": {
      "text/plain": [
       "ID                             object\n",
       "Application_Receipt_Date       object\n",
       "Applicant_Gender               object\n",
       "Applicant_BirthDate            object\n",
       "Applicant_Marital_Status       object\n",
       "Applicant_Occupation           object\n",
       "Applicant_Qualification        object\n",
       "Manager_DOJ                    object\n",
       "Manager_Joining_Designation    object\n",
       "Manager_Current_Designation    object\n",
       "Manager_Status                 object\n",
       "Manager_Gender                 object\n",
       "Manager_DoB                    object\n",
       "dtype: object"
      ]
     },
     "execution_count": 5,
     "metadata": {},
     "output_type": "execute_result"
    }
   ],
   "source": [
    "data.dtypes[data.dtypes == 'object']"
   ]
  },
  {
   "cell_type": "code",
   "execution_count": 6,
   "metadata": {},
   "outputs": [
    {
     "data": {
      "text/plain": [
       "M    4089\n",
       "S     907\n",
       "W      12\n",
       "D       7\n",
       "Name: Applicant_Marital_Status, dtype: int64"
      ]
     },
     "execution_count": 6,
     "metadata": {},
     "output_type": "execute_result"
    }
   ],
   "source": [
    "data['Applicant_Marital_Status'].value_counts()"
   ]
  },
  {
   "cell_type": "code",
   "execution_count": 7,
   "metadata": {
    "scrolled": false
   },
   "outputs": [
    {
     "data": {
      "text/plain": [
       "<seaborn.axisgrid.FacetGrid at 0x29139ed10f0>"
      ]
     },
     "execution_count": 7,
     "metadata": {},
     "output_type": "execute_result"
    },
    {
     "data": {
      "image/png": "[encoded data removed]",
      "text/plain": [
       "<Figure size 360x360 with 1 Axes>"
      ]
     },
     "metadata": {},
     "output_type": "display_data"
    }
   ],
   "source": [
    "sns.catplot(x=\"Applicant_Marital_Status\", kind=\"count\", palette=\"ch:.20\", data=data)"
   ]
  },
  {
   "cell_type": "code",
   "execution_count": 8,
   "metadata": {},
   "outputs": [],
   "source": [
    "data['Applicant_Marital_Status'].replace(to_replace=['W','D'],value=np.NAN,inplace=True)"
   ]
  },
  {
   "cell_type": "code",
   "execution_count": 9,
   "metadata": {},
   "outputs": [
    {
     "data": {
      "text/plain": [
       "M    4089\n",
       "S     907\n",
       "Name: Applicant_Marital_Status, dtype: int64"
      ]
     },
     "execution_count": 9,
     "metadata": {},
     "output_type": "execute_result"
    }
   ],
   "source": [
    "data['Applicant_Marital_Status'].value_counts()"
   ]
  },
  {
   "cell_type": "code",
   "execution_count": 10,
   "metadata": {},
   "outputs": [
    {
     "data": {
      "text/plain": [
       "49"
      ]
     },
     "execution_count": 10,
     "metadata": {},
     "output_type": "execute_result"
    }
   ],
   "source": [
    "data['Applicant_Marital_Status'].isna().sum()"
   ]
  },
  {
   "cell_type": "code",
   "execution_count": 11,
   "metadata": {},
   "outputs": [
    {
     "data": {
      "text/plain": [
       "'M'"
      ]
     },
     "execution_count": 11,
     "metadata": {},
     "output_type": "execute_result"
    }
   ],
   "source": [
    "data['Applicant_Marital_Status'].mode().values[0]"
   ]
  },
  {
   "cell_type": "code",
   "execution_count": 12,
   "metadata": {},
   "outputs": [],
   "source": [
    "data['Applicant_Marital_Status'].fillna(data['Applicant_Marital_Status'].mode().values[0],inplace=True)"
   ]
  },
  {
   "cell_type": "code",
   "execution_count": 13,
   "metadata": {},
   "outputs": [
    {
     "data": {
      "text/plain": [
       "M    4138\n",
       "S     907\n",
       "Name: Applicant_Marital_Status, dtype: int64"
      ]
     },
     "execution_count": 13,
     "metadata": {},
     "output_type": "execute_result"
    }
   ],
   "source": [
    "data['Applicant_Marital_Status'].value_counts()"
   ]
  },
  {
   "cell_type": "code",
   "execution_count": 15,
   "metadata": {},
   "outputs": [
    {
     "data": {
      "text/plain": [
       "Salaried         2560\n",
       "Business          646\n",
       "Others            506\n",
       "Self Employed     310\n",
       "Student            19\n",
       "Name: Applicant_Occupation, dtype: int64"
      ]
     },
     "execution_count": 15,
     "metadata": {},
     "output_type": "execute_result"
    }
   ],
   "source": [
    "data['Applicant_Occupation'].value_counts()"
   ]
  },
  {
   "cell_type": "code",
   "execution_count": 23,
   "metadata": {},
   "outputs": [
    {
     "data": {
      "text/plain": [
       "<seaborn.axisgrid.FacetGrid at 0x2913d2dc2e8>"
      ]
     },
     "execution_count": 23,
     "metadata": {},
     "output_type": "execute_result"
    },
    {
     "data": {
      "image/png": "[encoded data removed]",
      "text/plain": [
       "<Figure size 360x360 with 1 Axes>"
      ]
     },
     "metadata": {},
     "output_type": "display_data"
    }
   ],
   "source": [
    "sns.catplot(x=\"Applicant_Occupation\", kind=\"count\", palette=\"ch:.20\", data=data)"
   ]
  },
  {
   "cell_type": "code",
   "execution_count": 19,
   "metadata": {},
   "outputs": [],
   "source": [
    "data['Applicant_Occupation'].replace(to_replace=['Student'],value=np.NAN,inplace=True)"
   ]
  },
  {
   "cell_type": "code",
   "execution_count": 20,
   "metadata": {
    "scrolled": true
   },
   "outputs": [
    {
     "data": {
      "text/plain": [
       "Salaried         2560\n",
       "Business          646\n",
       "Others            506\n",
       "Self Employed     310\n",
       "Name: Applicant_Occupation, dtype: int64"
      ]
     },
     "execution_count": 20,
     "metadata": {},
     "output_type": "execute_result"
    }
   ],
   "source": [
    "data['Applicant_Occupation'].value_counts()"
   ]
  },
  {
   "cell_type": "code",
   "execution_count": 21,
   "metadata": {},
   "outputs": [
    {
     "data": {
      "text/plain": [
       "1023"
      ]
     },
     "execution_count": 21,
     "metadata": {},
     "output_type": "execute_result"
    }
   ],
   "source": [
    "data['Applicant_Occupation'].isna().sum()"
   ]
  },
  {
   "cell_type": "code",
   "execution_count": 24,
   "metadata": {},
   "outputs": [],
   "source": [
    "data['Applicant_Occupation2'] = data['Applicant_Occupation'].fillna(data['Applicant_Occupation'].mode().values[0])"
   ]
  },
  {
   "cell_type": "code",
   "execution_count": 27,
   "metadata": {},
   "outputs": [
    {
     "data": {
      "text/plain": [
       "Salaried         3583\n",
       "Business          646\n",
       "Others            506\n",
       "Self Employed     310\n",
       "Name: Applicant_Occupation2, dtype: int64"
      ]
     },
     "execution_count": 27,
     "metadata": {},
     "output_type": "execute_result"
    }
   ],
   "source": [
    "data['Applicant_Occupation2'].value_counts()"
   ]
  },
  {
   "cell_type": "code",
   "execution_count": 25,
   "metadata": {},
   "outputs": [
    {
     "data": {
      "text/plain": [
       "<seaborn.axisgrid.FacetGrid at 0x2913d2579e8>"
      ]
     },
     "execution_count": 25,
     "metadata": {},
     "output_type": "execute_result"
    },
    {
     "data": {
      "image/png": "[encoded data removed]",
      "text/plain": [
       "<Figure size 360x360 with 1 Axes>"
      ]
     },
     "metadata": {},
     "output_type": "display_data"
    }
   ],
   "source": [
    "sns.catplot(x=\"Applicant_Occupation2\", kind=\"count\", palette=\"ch:.20\", data=data)"
   ]
  },
  {
   "cell_type": "code",
   "execution_count": 32,
   "metadata": {},
   "outputs": [],
   "source": [
    "def find_index_(df,to_find,col):\n",
    "    min_=1\n",
    "    max_=len(df)\n",
    "    to_find=to_find\n",
    "    while(min_<max_):\n",
    "        mid=int((min_+max_)/2)\n",
    "        if((df[1:mid][col].isna().sum()==to_find)and((df[col][(mid-1):mid].isna()).values)):\n",
    "            return mid\n",
    "        elif((df[1:mid][col].isna().sum()>to_find)or(df[1:mid][col].isna().sum()==to_find)):\n",
    "            max_=mid-1\n",
    "        else:\n",
    "            min_=mid+1\n",
    "        if(max_==min_):\n",
    "            if((df[1:min_][col].isna().sum()==to_find)and((df[col][(min_-1):min_].isna()).values)):\n",
    "                return min_"
   ]
  },
  {
   "cell_type": "code",
   "execution_count": 33,
   "metadata": {},
   "outputs": [],
   "source": [
    "def replace_cat_list(df,col,cat_list):\n",
    "    count_cat_dict_initial = {'Total_cat':0}\n",
    "    for cat in cat_list:\n",
    "        count_cat_dict_initial[cat] = df.loc[df[col]==cat,col].count()\n",
    "        count_cat_dict_initial['Total_cat'] = count_cat_dict_initial.get('Total_cat') + count_cat_dict_initial[cat]\n",
    "    count_cat_dict_initial['Total'] = len(df[col])\n",
    "    count_cat_dict_final = {'Total_cat':0}\n",
    "    for cat in cat_list[:-1]:\n",
    "        count_cat_dict_final[cat] = int((count_cat_dict_initial.get(cat)/count_cat_dict_initial.get('Total_cat'))*count_cat_dict_initial.get('Total'))\n",
    "        count_cat_dict_final['Total_cat'] = count_cat_dict_final.get('Total_cat') + count_cat_dict_final[cat]\n",
    "    count_cat_dict_final[cat_list[-1]] = count_cat_dict_initial['Total'] - count_cat_dict_final['Total_cat']\n",
    "    fill_dict = {}\n",
    "    for cat in cat_list:\n",
    "        fill_dict[cat] = count_cat_dict_final[cat] - count_cat_dict_initial[cat]\n",
    "    for cat in cat_list[:-1]:\n",
    "        fill_index = find_index_(df,fill_dict.get(cat),col)\n",
    "        df.loc[0:fill_index,col] = df.loc[0:fill_index,col].fillna(cat)\n",
    "    df.loc[:,col] = df.loc[:,col].fillna(cat_list[-1])\n",
    "    return df"
   ]
  },
  {
   "cell_type": "code",
   "execution_count": 34,
   "metadata": {},
   "outputs": [],
   "source": [
    "data = replace_cat_list(data,'Applicant_Occupation',['Salaried','Business','Others','Self Employed'])"
   ]
  },
  {
   "cell_type": "code",
   "execution_count": 36,
   "metadata": {},
   "outputs": [
    {
     "data": {
      "text/plain": [
       "0"
      ]
     },
     "execution_count": 36,
     "metadata": {},
     "output_type": "execute_result"
    }
   ],
   "source": [
    "data['Applicant_Occupation'].isna().sum()"
   ]
  },
  {
   "cell_type": "code",
   "execution_count": 37,
   "metadata": {},
   "outputs": [
    {
     "data": {
      "text/plain": [
       "Salaried         3212\n",
       "Business          810\n",
       "Others            635\n",
       "Self Employed     388\n",
       "Name: Applicant_Occupation, dtype: int64"
      ]
     },
     "execution_count": 37,
     "metadata": {},
     "output_type": "execute_result"
    }
   ],
   "source": [
    "data['Applicant_Occupation'].value_counts()"
   ]
  },
  {
   "cell_type": "code",
   "execution_count": null,
   "metadata": {},
   "outputs": [],
   "source": []
  }
 ],
 "metadata": {
  "kernelspec": {
   "display_name": "Python 3",
   "language": "python",
   "name": "python3"
  },
  "language_info": {
   "codemirror_mode": {
    "name": "ipython",
    "version": 3
   },
   "file_extension": ".py",
   "mimetype": "text/x-python",
   "name": "python",
   "nbconvert_exporter": "python",
   "pygments_lexer": "ipython3",
   "version": "3.6.5"
  }
 },
 "nbformat": 4,
 "nbformat_minor": 2
}
